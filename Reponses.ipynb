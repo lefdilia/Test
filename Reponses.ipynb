{
 "cells": [
  {
   "cell_type": "markdown",
   "id": "b306286c",
   "metadata": {},
   "source": [
    "![This is an image](https://iwaco.ma/webroot/style/images/logo.png)\n",
    "\n",
    "# Test iwaco"
   ]
  },
  {
   "cell_type": "markdown",
   "id": "afc459c9",
   "metadata": {},
   "source": [
    "## Partie I\n",
    "### Informations générales"
   ]
  },
  {
   "cell_type": "markdown",
   "id": "fce0ebad",
   "metadata": {},
   "source": [
    "1. Nom et prénom"
   ]
  },
  {
   "cell_type": "code",
   "execution_count": null,
   "id": "43cd99e4",
   "metadata": {},
   "outputs": [],
   "source": [
    "Lefdili Alaoui Ayoub"
   ]
  },
  {
   "cell_type": "markdown",
   "id": "a130e113",
   "metadata": {},
   "source": [
    "2. Actuallement vous\n",
    "    1. Travaillez\n",
    "    2. Etudiez\n",
    "    3. Etes en Stage\n",
    "    4. En recherche active"
   ]
  },
  {
   "cell_type": "code",
   "execution_count": null,
   "id": "7ecd26c3",
   "metadata": {},
   "outputs": [],
   "source": [
    "2.4. En recherche active"
   ]
  },
  {
   "cell_type": "markdown",
   "id": "7d35753b",
   "metadata": {},
   "source": [
    "3. Vous voulez travailler en tant que\n",
    "    1. developpeur frontend\n",
    "    2. developpeur backend\n",
    "    3. developpeur mobile"
   ]
  },
  {
   "cell_type": "code",
   "execution_count": null,
   "id": "3879fe84",
   "metadata": {},
   "outputs": [],
   "source": [
    "3.3. Developpeur mobile"
   ]
  },
  {
   "cell_type": "markdown",
   "id": "40013554",
   "metadata": {},
   "source": [
    "4. combien d'année d'expérience avez-vous?"
   ]
  },
  {
   "cell_type": "code",
   "execution_count": null,
   "id": "ef4b9e90",
   "metadata": {},
   "outputs": [],
   "source": [
    "4.1. En developpement mobile: \"1 an et demi\""
   ]
  },
  {
   "cell_type": "markdown",
   "id": "199242f5",
   "metadata": {},
   "source": [
    "## Partie II\n",
    "### Questions Générales"
   ]
  },
  {
   "cell_type": "markdown",
   "id": "15fae605",
   "metadata": {},
   "source": [
    "1. C'est quoi \n",
    "    1. Git? \n",
    "    2. Sass? \n",
    "    3. Composer? \n",
    "    4. Object Pool Pattern (Design Patterns)"
   ]
  },
  {
   "cell_type": "markdown",
   "id": "6981eb8b",
   "metadata": {},
   "source": [
    "2. A quoi sert la commande `git diff`?"
   ]
  },
  {
   "cell_type": "code",
   "execution_count": null,
   "id": "ab2c8b2e",
   "metadata": {},
   "outputs": [],
   "source": [
    "- Montrera les modifications non planifiées sur la branche en cours"
   ]
  },
  {
   "cell_type": "markdown",
   "id": "90623434",
   "metadata": {},
   "source": [
    "### Javascript"
   ]
  },
  {
   "cell_type": "markdown",
   "id": "a353e13b",
   "metadata": {},
   "source": [
    "1. C'est quoi `CORS`?"
   ]
  },
  {
   "cell_type": "code",
   "execution_count": null,
   "id": "9d918815",
   "metadata": {},
   "outputs": [],
   "source": [
    "- Un mécanisme qui permet à des ressources restreintes d'une page web d'être récupérées par un autre domaine extérieur au domaine à partir duquel la première ressource a été servie"
   ]
  },
  {
   "cell_type": "markdown",
   "id": "41c42561",
   "metadata": {},
   "source": [
    "2. C'est quoi la différence entre `==` et `===`"
   ]
  },
  {
   "cell_type": "code",
   "execution_count": null,
   "id": "6a48bc63",
   "metadata": {},
   "outputs": [],
   "source": [
    "\n",
    "\"==\" : verifie la valeur Ex: false == 0 --> true\n",
    "\"===\" : verifie le type et la valeur Ex : false === 0 --> false\n"
   ]
  },
  {
   "cell_type": "markdown",
   "id": "1f54eab7",
   "metadata": {},
   "source": [
    "3. Qu'est ce que return `if ( \"0\" == \"true\" )`\n",
    "    1. 0\n",
    "    2. \"0\"\n",
    "    3. NULL\n",
    "    4. false"
   ]
  },
  {
   "cell_type": "code",
   "execution_count": null,
   "id": "a37bde31",
   "metadata": {},
   "outputs": [],
   "source": [
    "- False"
   ]
  },
  {
   "cell_type": "markdown",
   "id": "98d3604a",
   "metadata": {},
   "source": [
    "4. Qu'est ce que `this`?"
   ]
  },
  {
   "cell_type": "code",
   "execution_count": null,
   "id": "c0196ce9",
   "metadata": {},
   "outputs": [],
   "source": [
    "- `this` comme dans d'autres languages, c'est un référence de l'objet courant"
   ]
  },
  {
   "cell_type": "markdown",
   "id": "1c938880",
   "metadata": {},
   "source": [
    "### CSS"
   ]
  },
  {
   "cell_type": "markdown",
   "id": "faa42924",
   "metadata": {},
   "source": [
    "1. Expliquez la différence entre le comportement de `inline` et `block`"
   ]
  },
  {
   "cell_type": "markdown",
   "id": "ec43d237",
   "metadata": {},
   "source": [
    "2. Est-il possible de créer un site web responsive sans media queries ?"
   ]
  },
  {
   "cell_type": "markdown",
   "id": "4cb4f821",
   "metadata": {},
   "source": [
    "3. Expliquez les avantages/inconvénients de l'utilisation d'éléments `inline-block`, `flex` ou `float`."
   ]
  },
  {
   "cell_type": "markdown",
   "id": "6e0022a1",
   "metadata": {},
   "source": [
    "### PHP"
   ]
  },
  {
   "cell_type": "markdown",
   "id": "f2827685",
   "metadata": {},
   "source": [
    "1. Écrivez un programme qui imprimera des nombres de 1 à 100, avec les conditions suivantes :\n",
    "    1. A la place de chaque nombre qui peut être divisé par 3, le programme imprimera Dev.\n",
    "    2. A la place de chaque nombre divisible par 5, le programme imprimera Ops.\n",
    "    3. A la place de chaque nombre divisible par 3 et 5, le programme imprimera DevOps."
   ]
  },
  {
   "cell_type": "code",
   "execution_count": null,
   "id": "405bea13",
   "metadata": {},
   "outputs": [],
   "source": [
    "for ($i = 1; $i <= 100; $i++) {\n",
    "\n",
    "    if (($i % 3) == 0 && (($i % 5) == 0)) {\n",
    "        echo \"DevOps <br>\";\n",
    "    } else if (($i % 3) == 0) {\n",
    "        echo \"Dev <br>\";\n",
    "    } else if (($i % 5) == 0) {\n",
    "        echo \"Ops <br>\";\n",
    "    } else {\n",
    "        echo \"$i <br>\";\n",
    "    }\n",
    "}"
   ]
  },
  {
   "cell_type": "markdown",
   "id": "1f7e3fd5",
   "metadata": {},
   "source": [
    "2. Ecrire une fonction qui vérifie si paramètre est en fait un nombre premier. \n",
    "`echo isPrime(73) ? 'Prime' : 'Composite';`"
   ]
  },
  {
   "cell_type": "code",
   "execution_count": null,
   "id": "773db5a8",
   "metadata": {},
   "outputs": [],
   "source": [
    "function isPrime($number) {\n",
    "\n",
    "\tif ($number == 1)\n",
    "    return 0;\n",
    "    for ($i = 2; $i <= $number/2; $i++){\n",
    "        if ($number % $i == 0)\n",
    "            return 0;\n",
    "    }\n",
    "    return 1;\n",
    "}"
   ]
  },
  {
   "cell_type": "markdown",
   "id": "57096691",
   "metadata": {},
   "source": [
    "3. Que signifie\n",
    "```\n",
    "    <?php\n",
    "        $array= [3, 8, -4, 0, 2, -9];\n",
    "        foreach ($array as &$item):\n",
    "            $item = ($item >= 0)? $item : pow($item, 2);\n",
    "        endforeach;\n",
    "        print_r($array);\n",
    "```"
   ]
  },
  {
   "cell_type": "code",
   "execution_count": null,
   "id": "659c209a",
   "metadata": {},
   "outputs": [],
   "source": [
    "3.\n",
    "- Value in Array loop is passed bye reference, that mean the array value is changing\n",
    "- Every number is less than to 0 will print the power of number by 2 -9 * -9 == 81"
   ]
  },
  {
   "cell_type": "markdown",
   "id": "7f6793a1",
   "metadata": {},
   "source": [
    "### DATABASE"
   ]
  },
  {
   "cell_type": "markdown",
   "id": "c18def64",
   "metadata": {},
   "source": [
    "Pour la table employee ci-dessous `(voir employee.sql)`\n",
    "   1. extraire le nombre d'employés par jour s'étant inscrit \n",
    "   2. extraire les employés ayant fait l'inscription le `3/10/2021`\n",
    "   3. extraire les employés ayant un email qui commence par `consonne` et qui a un chiffre avant le `@`\n",
    "   4. mettre first_name et last_name en `lowercase`\n",
    "   5. modifier la column `create_at` par `date_creation`\n",
    "   6. c'est quoi la differnce entre `delete` et `truncate`\n",
    "   7. imprimer la liste des employés qui ont un salaire plus que la somme de deux salaires minimum"
   ]
  },
  {
   "cell_type": "code",
   "execution_count": null,
   "id": "35050a88",
   "metadata": {},
   "outputs": [],
   "source": [
    "1. SELECT count(id) as numberOf, DATE(create_at) DateOnly FROM employee GROUP BY DateOnly ORDER By numberOf DESC;\n",
    "2. SELECT * from `employee` where DATE_FORMAT(create_at,'%e/%m/%Y') LIKE '3/10/2021' \n",
    "3. SELECT * FROM `employee` WHERE `email` REGEXP \"^[^aeiouAEIOU]\";\n",
    "4. SELECT LOWER(`first_name`) as `firstName`, LOWER(`last_name`) as lastName From `employee` \n",
    "5. ALTER TABLE `employee` CHANGE `create_at` `date_creation` datetime DEFAULT NULL;\n",
    "\n",
    "6. \n",
    "- `delete`: supprime un enregistrement dans la base\n",
    "- `truncate`: vide complètement la `table`\n",
    "\n"
   ]
  },
  {
   "cell_type": "markdown",
   "id": "30c385fd",
   "metadata": {},
   "source": [
    "\n",
    "| id | first_name | last_name   | email                          | salaire | create_at           |\n",
    "|----|------------|-------------|--------------------------------|---------|---------------------|\n",
    "|  1 | Cammy      | Yegorkin    | cyegorkin0@usatoday.com        |   10188 | 2021-10-27 08:04:27 |\n",
    "|  2 | Shae       | Masham      | smasham1@ftc.gov               |   11601 | 2021-10-11 18:17:51 |\n",
    "|  3 | Hadlee     | Oakeshott   | hoakeshott2@ca.gov             |    5797 | 2021-10-13 11:14:04 |\n",
    "|  4 | Mora       | Krzyzowski  | mkrzyzowski3@usgs.gov          |    6665 | 2021-10-01 09:08:31 |\n",
    "|  5 | Jone       | Ellerman    | jellerman4@xing.com            |    8018 | 2021-10-18 06:49:23 |\n",
    "|  6 | Lynda      | Combe       | lcombe5@spotify.com            |    9423 | 2021-10-11 02:36:17 |\n",
    "|  7 | Leon       | Brusin      | lbrusin6@barnesandnoble.com    |    8644 | 2021-10-17 21:10:01 |\n",
    "|  8 | Dionysus   | Letford     | dletford7@simplemachines.org   |    9914 | 2021-10-17 10:45:06 |\n",
    "|  9 | Edithe     | Radborn     | eradborn8@360.cn               |   12534 | 2021-10-15 00:55:30 |\n",
    "| 10 | Darrelle   | Oxtiby      | doxtiby9@taobao.com            |   12483 | 2021-10-06 11:25:44 |\n",
    "| 11 | Kori       | Gissing     | kgissinga@kickstarter.com      |    9001 | 2021-10-03 17:00:23 |\n",
    "| 12 | Jordan     | Speedy      | jspeedyb@comsenz.com           |   10875 | 2021-10-19 07:36:37 |\n",
    "| 13 | Toinette   | Bradneck    | tbradneckc@merriam-webster.com |   12670 | 2021-10-25 10:15:28 |\n",
    "| 14 | Kissie     | Valentino   | kvalentinod@wikimedia.org      |    7285 | 2021-10-20 13:34:10 |\n",
    "| 15 | Letta      | Botwood     | lbotwoode@shutterfly.com       |    6648 | 2021-10-04 06:49:30 |\n",
    "| 16 | Claudetta  | Winram      | cwinramf@wsj.com               |   12494 | 2021-10-03 05:21:26 |\n",
    "| 17 | Joell      | Force       | jforceg@examiner.com           |    6346 | 2021-10-13 22:57:31 |\n",
    "| 18 | Sansone    | Comrie      | scomrieh@histats.com           |   11449 | 2021-10-26 15:04:28 |\n",
    "| 19 | Cherie     | Salmen      | csalmeni@comsenz.com           |    9870 | 2021-10-19 16:36:11 |\n",
    "| 20 | Hervey     | Mildmott    | hmildmottj@t-online.de         |    7783 | 2021-10-28 16:42:29 |\n",
    "| 21 | Dar        | Vasin       | dvasink@mysql.com              |   10383 | 2021-10-29 15:56:34 |\n",
    "| 22 | Dionis     | Riggulsford | driggulsfordl@pcworld.com      |    9191 | 2021-10-01 11:30:40 |\n",
    "| 23 | Dory       | St Clair    | dstclairm@harvard.edu          |   10854 | 2021-10-10 14:42:25 |\n",
    "| 24 | Ardeen     | Vardon      | avardonn@baidu.com             |   11460 | 2021-10-11 02:14:51 |\n",
    "| 25 | Coriss     | Linnemann   | clinnemanno@fc2.com            |    9248 | 2021-10-24 17:15:02 |\n",
    "| 26 | Itch       | Screech     | iscreechp@dedecms.com          |    5451 | 2021-10-21 15:28:28 |\n",
    "| 27 | Ingram     | Thorneley   | ithorneleyq@freewebs.com       |   12764 | 2021-10-21 21:13:23 |\n",
    "| 28 | Ellyn      | Deadman     | edeadmanr@w3.org               |    5630 | 2021-10-21 10:24:22 |\n",
    "| 29 | Brigit     | Pinckney    | bpinckneys@parallels.com       |   10501 | 2021-10-26 02:34:22 |\n",
    "| 30 | Gilbertina | Thurbon     | gthurbont@flavors.me           |    6167 | 2021-10-20 05:28:06 |\n"
   ]
  },
  {
   "cell_type": "markdown",
   "id": "08350c78",
   "metadata": {},
   "source": [
    "## Partie III\n",
    "### Pratique"
   ]
  },
  {
   "cell_type": "markdown",
   "id": "c2fc7e0b",
   "metadata": {},
   "source": [
    "- mobile: voir video\n",
    "- web: voir XD file"
   ]
  },
  {
   "cell_type": "code",
   "execution_count": null,
   "id": "cc347c09",
   "metadata": {},
   "outputs": [],
   "source": []
  }
 ],
 "metadata": {
  "kernelspec": {
   "display_name": "Python 3",
   "language": "python",
   "name": "python3"
  },
  "language_info": {
   "codemirror_mode": {
    "name": "ipython",
    "version": 3
   },
   "file_extension": ".py",
   "mimetype": "text/x-python",
   "name": "python",
   "nbconvert_exporter": "python",
   "pygments_lexer": "ipython3",
   "version": "3.8.8"
  }
 },
 "nbformat": 4,
 "nbformat_minor": 5
}
